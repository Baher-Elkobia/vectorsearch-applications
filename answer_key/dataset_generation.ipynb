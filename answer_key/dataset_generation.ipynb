{
 "cells": [
  {
   "cell_type": "code",
   "execution_count": 1,
   "id": "bff707aa-3a61-4a44-ba2f-0baab613e3ec",
   "metadata": {},
   "outputs": [],
   "source": [
    "%load_ext autoreload\n",
    "%autoreload 2"
   ]
  },
  {
   "cell_type": "code",
   "execution_count": 2,
   "id": "b0680f82-fb6e-4652-af99-0887702ab5ba",
   "metadata": {},
   "outputs": [],
   "source": [
    "import sys\n",
    "sys.path.append('../')"
   ]
  },
  {
   "cell_type": "code",
   "execution_count": 50,
   "id": "3f5e244f-bb15-4230-89e5-812d61c091b4",
   "metadata": {},
   "outputs": [],
   "source": [
    "from src.evaluation.retrieval_evaluation import QueryContextGenerator, RetrievalEvaluationService\n",
    "from src.preprocessor.preprocessing import FileIO\n",
    "from src.llm.llm_interface import LLM\n",
    "from src.database.weaviate_interface_v4 import WeaviateWCS\n",
    "from src.reranker import ReRanker\n",
    "from dotenv import load_dotenv, find_dotenv\n",
    "_ = load_dotenv(find_dotenv(), override=True)\n",
    "import os\n",
    "from rich import print"
   ]
  },
  {
   "cell_type": "code",
   "execution_count": 28,
   "id": "8c532cef-6b76-4287-97ea-b8082f283d78",
   "metadata": {},
   "outputs": [
    {
     "name": "stdout",
     "output_type": "stream",
     "text": [
      "Shape of data: (23123, 13)\n",
      "Memory Usage: 2.29+ MB\n"
     ]
    }
   ],
   "source": [
    "data = FileIO.load_parquet('./huberman-labs-minilm-256.parquet')\n",
    "llm = LLM()\n",
    "qcg = QueryContextGenerator(llm, use_instructor=True)\n",
    "retriever = WeaviateWCS(os.getenv('WEAVIATE_ENDPOINT'), os.getenv('WEAVIATE_API_KEY'))"
   ]
  },
  {
   "cell_type": "code",
   "execution_count": 29,
   "id": "2b3e6b8d-2730-48a4-822c-195054c3be6b",
   "metadata": {},
   "outputs": [],
   "source": [
    "# golden_dataset = qcg.generate_retrieval_dataset(data, 100, threshold=0.9, return_validations=False)"
   ]
  },
  {
   "cell_type": "code",
   "execution_count": 19,
   "id": "2633d691-781a-49bd-b8d6-4ccd4b872f2e",
   "metadata": {},
   "outputs": [],
   "source": [
    "with open('../data/golden_datasets/test_golden_256.json', 'w') as f:\n",
    "    import json\n",
    "    f.write(json.dumps(golden_dataset.model_dump()))"
   ]
  },
  {
   "cell_type": "code",
   "execution_count": 57,
   "id": "3fa4425b-0635-4d9f-8a65-9267f6f66da7",
   "metadata": {},
   "outputs": [
    {
     "data": {
      "text/plain": [
       "device(type='mps', index=0)"
      ]
     },
     "execution_count": 57,
     "metadata": {},
     "output_type": "execute_result"
    }
   ],
   "source": [
    "res = RetrievalEvaluationService()\n",
    "reranker = ReRanker()\n",
    "reranker.model.to('mps')\n",
    "reranker.model.device"
   ]
  },
  {
   "cell_type": "code",
   "execution_count": 95,
   "id": "31f4781b-f714-4114-925d-2fbf17b1e6e8",
   "metadata": {},
   "outputs": [],
   "source": [
    "dumped_golden = golden_dataset.model_dump()"
   ]
  },
  {
   "cell_type": "code",
   "execution_count": null,
   "id": "185fb3f5-ad23-4809-a1da-aa8ab7b5c4e3",
   "metadata": {},
   "outputs": [],
   "source": [
    "deu"
   ]
  },
  {
   "cell_type": "code",
   "execution_count": 241,
   "id": "fdcfd4e6-299c-4925-bb10-fb7d1974d953",
   "metadata": {},
   "outputs": [
    {
     "name": "stderr",
     "output_type": "stream",
     "text": [
      "Queries: 100%|███████████████████████████████████████████████████████████████████████████████████████████████| 100/100 [01:15<00:00,  1.33it/s]\n",
      "\u001b[32m2024-11-20 10:35:09.975\u001b[0m | \u001b[1mINFO    \u001b[0m | \u001b[36msrc.evaluation.retrieval_evaluation\u001b[0m:\u001b[36mexecute_new_evaluation\u001b[0m:\u001b[36m453\u001b[0m - \u001b[1mTotal Evaluation Time: 1.25 minutes\u001b[0m\n",
      "\u001b[32m2024-11-20 10:35:09.977\u001b[0m | \u001b[1mINFO    \u001b[0m | \u001b[36msrc.preprocessor.preprocessing\u001b[0m:\u001b[36msave_as_json\u001b[0m:\u001b[36m111\u001b[0m - \u001b[1mData saved as json file here: ./eval_results/retrieval_eval_256_2024-11-20-10-35-09.json\u001b[0m\n"
     ]
    }
   ],
   "source": [
    "renew = res.execute_new_evaluation(dumped_golden, \n",
    "                                'Huberman_minilm_256', \n",
    "                                 retriever,\n",
    "                                 reranker=reranker,\n",
    "                                 alpha=0.40,\n",
    "                                 retrieve_limit=50,\n",
    "                                 include_miss_info=True)\n",
    "                           "
   ]
  },
  {
   "cell_type": "code",
   "execution_count": 242,
   "id": "a2baf6f8-4e51-432a-bef0-3e7ecad9d023",
   "metadata": {},
   "outputs": [
    {
     "data": {
      "text/html": [
       "<pre style=\"white-space:pre;overflow-x:auto;line-height:normal;font-family:Menlo,'DejaVu Sans Mono',consolas,'Courier New',monospace\"><span style=\"color: #800080; text-decoration-color: #800080; font-weight: bold\">RetrievalEvaluation</span><span style=\"font-weight: bold\">(</span>\n",
       "    <span style=\"color: #808000; text-decoration-color: #808000\">retrieve_limit</span>=<span style=\"color: #008080; text-decoration-color: #008080; font-weight: bold\">50</span>,\n",
       "    <span style=\"color: #808000; text-decoration-color: #808000\">top_k</span>=<span style=\"color: #008080; text-decoration-color: #008080; font-weight: bold\">5</span>,\n",
       "    <span style=\"color: #808000; text-decoration-color: #808000\">retriever</span>=<span style=\"color: #008000; text-decoration-color: #008000\">'sentence-transformers/all-MiniLM-L6-v2'</span>,\n",
       "    <span style=\"color: #808000; text-decoration-color: #808000\">reranker</span>=<span style=\"color: #008000; text-decoration-color: #008000\">'cross-encoder/ms-marco-MiniLM-L-6-v2'</span>,\n",
       "    <span style=\"color: #808000; text-decoration-color: #808000\">chunk_size</span>=<span style=\"color: #008080; text-decoration-color: #008080; font-weight: bold\">256</span>,\n",
       "    <span style=\"color: #808000; text-decoration-color: #808000\">chunk_overlap</span>=<span style=\"color: #008080; text-decoration-color: #008080; font-weight: bold\">0</span>,\n",
       "    <span style=\"color: #808000; text-decoration-color: #808000\">total_misses</span>=<span style=\"color: #008080; text-decoration-color: #008080; font-weight: bold\">15</span>,\n",
       "    <span style=\"color: #808000; text-decoration-color: #808000\">total_questions</span>=<span style=\"color: #008080; text-decoration-color: #008080; font-weight: bold\">100</span>,\n",
       "    <span style=\"color: #808000; text-decoration-color: #808000\">alpha</span>=<span style=\"color: #008080; text-decoration-color: #008080; font-weight: bold\">0.4</span>,\n",
       "    <span style=\"color: #808000; text-decoration-color: #808000\">search_type</span>=<span style=\"color: #008000; text-decoration-color: #008000\">'all'</span>,\n",
       "    <span style=\"color: #808000; text-decoration-color: #808000\">kw_raw_hits</span>=<span style=\"color: #008080; text-decoration-color: #008080; font-weight: bold\">78</span>,\n",
       "    <span style=\"color: #808000; text-decoration-color: #808000\">kw_mrr</span>=<span style=\"color: #008080; text-decoration-color: #008080; font-weight: bold\">0.61</span>,\n",
       "    <span style=\"color: #808000; text-decoration-color: #808000\">vector_raw_hits</span>=<span style=\"color: #008080; text-decoration-color: #008080; font-weight: bold\">76</span>,\n",
       "    <span style=\"color: #808000; text-decoration-color: #808000\">vector_mrr</span>=<span style=\"color: #008080; text-decoration-color: #008080; font-weight: bold\">0.61</span>,\n",
       "    <span style=\"color: #808000; text-decoration-color: #808000\">hybrid_raw_hits</span>=<span style=\"color: #008080; text-decoration-color: #008080; font-weight: bold\">83</span>,\n",
       "    <span style=\"color: #808000; text-decoration-color: #808000\">hybrid_mrr</span>=<span style=\"color: #008080; text-decoration-color: #008080; font-weight: bold\">0.64</span>,\n",
       "    <span style=\"color: #808000; text-decoration-color: #808000\">kw_hit_rate</span>=<span style=\"color: #008080; text-decoration-color: #008080; font-weight: bold\">0.78</span>,\n",
       "    <span style=\"color: #808000; text-decoration-color: #808000\">vector_hit_rate</span>=<span style=\"color: #008080; text-decoration-color: #008080; font-weight: bold\">0.76</span>,\n",
       "    <span style=\"color: #808000; text-decoration-color: #808000\">hybrid_hit_rate</span>=<span style=\"color: #008080; text-decoration-color: #008080; font-weight: bold\">0.83</span>,\n",
       "    <span style=\"color: #808000; text-decoration-color: #808000\">miss_info</span>=<span style=\"font-weight: bold\">[</span>\n",
       "        <span style=\"color: #008000; text-decoration-color: #008000\">'tLS6t3FVOTI_7'</span>,\n",
       "        <span style=\"color: #008000; text-decoration-color: #008000\">'K9lORz2_XSU_1'</span>,\n",
       "        <span style=\"color: #008000; text-decoration-color: #008000\">'x3MgDtZovks_8'</span>,\n",
       "        <span style=\"color: #008000; text-decoration-color: #008000\">'juD99_sPWGU_49'</span>,\n",
       "        <span style=\"color: #008000; text-decoration-color: #008000\">'ObtW353d5i0_17'</span>,\n",
       "        <span style=\"color: #008000; text-decoration-color: #008000\">'O640yAgq5f8_79'</span>,\n",
       "        <span style=\"color: #008000; text-decoration-color: #008000\">'EQ3GjpGq5Y8_86'</span>,\n",
       "        <span style=\"color: #008000; text-decoration-color: #008000\">'qPKd99Pa2iU_158'</span>,\n",
       "        <span style=\"color: #008000; text-decoration-color: #008000\">'zEYE-vcVKy8_16'</span>,\n",
       "        <span style=\"color: #008000; text-decoration-color: #008000\">'CyDLbrZK75U_85'</span>,\n",
       "        <span style=\"color: #008000; text-decoration-color: #008000\">'yOJvm_ri_hk_37'</span>,\n",
       "        <span style=\"color: #008000; text-decoration-color: #008000\">'tLRCS48Ens4_17'</span>,\n",
       "        <span style=\"color: #008000; text-decoration-color: #008000\">'dzOvi0Aa2EA_108'</span>,\n",
       "        <span style=\"color: #008000; text-decoration-color: #008000\">'CGjdgy0cwGk_44'</span>,\n",
       "        <span style=\"color: #008000; text-decoration-color: #008000\">'Wcs2PFz5q6g_46'</span>\n",
       "    <span style=\"font-weight: bold\">]</span>,\n",
       "    <span style=\"color: #808000; text-decoration-color: #808000\">evaluation_time</span>=<span style=\"color: #008000; text-decoration-color: #008000\">'1.25 minutes'</span>\n",
       "<span style=\"font-weight: bold\">)</span>\n",
       "</pre>\n"
      ],
      "text/plain": [
       "\u001b[1;35mRetrievalEvaluation\u001b[0m\u001b[1m(\u001b[0m\n",
       "    \u001b[33mretrieve_limit\u001b[0m=\u001b[1;36m50\u001b[0m,\n",
       "    \u001b[33mtop_k\u001b[0m=\u001b[1;36m5\u001b[0m,\n",
       "    \u001b[33mretriever\u001b[0m=\u001b[32m'sentence-transformers/all-MiniLM-L6-v2'\u001b[0m,\n",
       "    \u001b[33mreranker\u001b[0m=\u001b[32m'cross-encoder/ms-marco-MiniLM-L-6-v2'\u001b[0m,\n",
       "    \u001b[33mchunk_size\u001b[0m=\u001b[1;36m256\u001b[0m,\n",
       "    \u001b[33mchunk_overlap\u001b[0m=\u001b[1;36m0\u001b[0m,\n",
       "    \u001b[33mtotal_misses\u001b[0m=\u001b[1;36m15\u001b[0m,\n",
       "    \u001b[33mtotal_questions\u001b[0m=\u001b[1;36m100\u001b[0m,\n",
       "    \u001b[33malpha\u001b[0m=\u001b[1;36m0\u001b[0m\u001b[1;36m.4\u001b[0m,\n",
       "    \u001b[33msearch_type\u001b[0m=\u001b[32m'all'\u001b[0m,\n",
       "    \u001b[33mkw_raw_hits\u001b[0m=\u001b[1;36m78\u001b[0m,\n",
       "    \u001b[33mkw_mrr\u001b[0m=\u001b[1;36m0\u001b[0m\u001b[1;36m.61\u001b[0m,\n",
       "    \u001b[33mvector_raw_hits\u001b[0m=\u001b[1;36m76\u001b[0m,\n",
       "    \u001b[33mvector_mrr\u001b[0m=\u001b[1;36m0\u001b[0m\u001b[1;36m.61\u001b[0m,\n",
       "    \u001b[33mhybrid_raw_hits\u001b[0m=\u001b[1;36m83\u001b[0m,\n",
       "    \u001b[33mhybrid_mrr\u001b[0m=\u001b[1;36m0\u001b[0m\u001b[1;36m.64\u001b[0m,\n",
       "    \u001b[33mkw_hit_rate\u001b[0m=\u001b[1;36m0\u001b[0m\u001b[1;36m.78\u001b[0m,\n",
       "    \u001b[33mvector_hit_rate\u001b[0m=\u001b[1;36m0\u001b[0m\u001b[1;36m.76\u001b[0m,\n",
       "    \u001b[33mhybrid_hit_rate\u001b[0m=\u001b[1;36m0\u001b[0m\u001b[1;36m.83\u001b[0m,\n",
       "    \u001b[33mmiss_info\u001b[0m=\u001b[1m[\u001b[0m\n",
       "        \u001b[32m'tLS6t3FVOTI_7'\u001b[0m,\n",
       "        \u001b[32m'K9lORz2_XSU_1'\u001b[0m,\n",
       "        \u001b[32m'x3MgDtZovks_8'\u001b[0m,\n",
       "        \u001b[32m'juD99_sPWGU_49'\u001b[0m,\n",
       "        \u001b[32m'ObtW353d5i0_17'\u001b[0m,\n",
       "        \u001b[32m'O640yAgq5f8_79'\u001b[0m,\n",
       "        \u001b[32m'EQ3GjpGq5Y8_86'\u001b[0m,\n",
       "        \u001b[32m'qPKd99Pa2iU_158'\u001b[0m,\n",
       "        \u001b[32m'zEYE-vcVKy8_16'\u001b[0m,\n",
       "        \u001b[32m'CyDLbrZK75U_85'\u001b[0m,\n",
       "        \u001b[32m'yOJvm_ri_hk_37'\u001b[0m,\n",
       "        \u001b[32m'tLRCS48Ens4_17'\u001b[0m,\n",
       "        \u001b[32m'dzOvi0Aa2EA_108'\u001b[0m,\n",
       "        \u001b[32m'CGjdgy0cwGk_44'\u001b[0m,\n",
       "        \u001b[32m'Wcs2PFz5q6g_46'\u001b[0m\n",
       "    \u001b[1m]\u001b[0m,\n",
       "    \u001b[33mevaluation_time\u001b[0m=\u001b[32m'1.25 minutes'\u001b[0m\n",
       "\u001b[1m)\u001b[0m\n"
      ]
     },
     "metadata": {},
     "output_type": "display_data"
    }
   ],
   "source": [
    "print(renew)"
   ]
  },
  {
   "cell_type": "code",
   "execution_count": 240,
   "id": "a735bbc9-e742-4a13-a6e3-166b7276d9d3",
   "metadata": {},
   "outputs": [
    {
     "data": {
      "text/html": [
       "<pre style=\"white-space:pre;overflow-x:auto;line-height:normal;font-family:Menlo,'DejaVu Sans Mono',consolas,'Courier New',monospace\"><span style=\"color: #800080; text-decoration-color: #800080; font-weight: bold\">RetrievalEvaluation</span><span style=\"font-weight: bold\">(</span>\n",
       "    <span style=\"color: #808000; text-decoration-color: #808000\">retrieve_limit</span>=<span style=\"color: #008080; text-decoration-color: #008080; font-weight: bold\">300</span>,\n",
       "    <span style=\"color: #808000; text-decoration-color: #808000\">top_k</span>=<span style=\"color: #008080; text-decoration-color: #008080; font-weight: bold\">5</span>,\n",
       "    <span style=\"color: #808000; text-decoration-color: #808000\">retriever</span>=<span style=\"color: #008000; text-decoration-color: #008000\">'sentence-transformers/all-MiniLM-L6-v2'</span>,\n",
       "    <span style=\"color: #808000; text-decoration-color: #808000\">reranker</span>=<span style=\"color: #008000; text-decoration-color: #008000\">'None'</span>,\n",
       "    <span style=\"color: #808000; text-decoration-color: #808000\">chunk_size</span>=<span style=\"color: #008080; text-decoration-color: #008080; font-weight: bold\">256</span>,\n",
       "    <span style=\"color: #808000; text-decoration-color: #808000\">chunk_overlap</span>=<span style=\"color: #008080; text-decoration-color: #008080; font-weight: bold\">0</span>,\n",
       "    <span style=\"color: #808000; text-decoration-color: #808000\">total_misses</span>=<span style=\"color: #008080; text-decoration-color: #008080; font-weight: bold\">18</span>,\n",
       "    <span style=\"color: #808000; text-decoration-color: #808000\">total_questions</span>=<span style=\"color: #008080; text-decoration-color: #008080; font-weight: bold\">100</span>,\n",
       "    <span style=\"color: #808000; text-decoration-color: #808000\">alpha</span>=<span style=\"color: #008080; text-decoration-color: #008080; font-weight: bold\">0.4</span>,\n",
       "    <span style=\"color: #808000; text-decoration-color: #808000\">search_type</span>=<span style=\"color: #008000; text-decoration-color: #008000\">'all'</span>,\n",
       "    <span style=\"color: #808000; text-decoration-color: #808000\">kw_raw_hits</span>=<span style=\"color: #008080; text-decoration-color: #008080; font-weight: bold\">65</span>,\n",
       "    <span style=\"color: #808000; text-decoration-color: #808000\">kw_mrr</span>=<span style=\"color: #008080; text-decoration-color: #008080; font-weight: bold\">0.54</span>,\n",
       "    <span style=\"color: #808000; text-decoration-color: #808000\">vector_raw_hits</span>=<span style=\"color: #008080; text-decoration-color: #008080; font-weight: bold\">56</span>,\n",
       "    <span style=\"color: #808000; text-decoration-color: #808000\">vector_mrr</span>=<span style=\"color: #008080; text-decoration-color: #008080; font-weight: bold\">0.42</span>,\n",
       "    <span style=\"color: #808000; text-decoration-color: #808000\">hybrid_raw_hits</span>=<span style=\"color: #008080; text-decoration-color: #008080; font-weight: bold\">73</span>,\n",
       "    <span style=\"color: #808000; text-decoration-color: #808000\">hybrid_mrr</span>=<span style=\"color: #008080; text-decoration-color: #008080; font-weight: bold\">0.59</span>,\n",
       "    <span style=\"color: #808000; text-decoration-color: #808000\">kw_hit_rate</span>=<span style=\"color: #008080; text-decoration-color: #008080; font-weight: bold\">0.65</span>,\n",
       "    <span style=\"color: #808000; text-decoration-color: #808000\">vector_hit_rate</span>=<span style=\"color: #008080; text-decoration-color: #008080; font-weight: bold\">0.56</span>,\n",
       "    <span style=\"color: #808000; text-decoration-color: #808000\">hybrid_hit_rate</span>=<span style=\"color: #008080; text-decoration-color: #008080; font-weight: bold\">0.73</span>,\n",
       "    <span style=\"color: #808000; text-decoration-color: #808000\">miss_info</span>=<span style=\"font-weight: bold\">[</span>\n",
       "        <span style=\"color: #008000; text-decoration-color: #008000\">'VAEzZeaV5zM_105'</span>,\n",
       "        <span style=\"color: #008000; text-decoration-color: #008000\">'Xu1FMCxoEFc_65'</span>,\n",
       "        <span style=\"color: #008000; text-decoration-color: #008000\">'x4m_PdFbu-s_28'</span>,\n",
       "        <span style=\"color: #008000; text-decoration-color: #008000\">'tLS6t3FVOTI_7'</span>,\n",
       "        <span style=\"color: #008000; text-decoration-color: #008000\">'FeRgqJVALMQ_3'</span>,\n",
       "        <span style=\"color: #008000; text-decoration-color: #008000\">'K9lORz2_XSU_68'</span>,\n",
       "        <span style=\"color: #008000; text-decoration-color: #008000\">'K9lORz2_XSU_1'</span>,\n",
       "        <span style=\"color: #008000; text-decoration-color: #008000\">'x3MgDtZovks_8'</span>,\n",
       "        <span style=\"color: #008000; text-decoration-color: #008000\">'AtChcxeaukQ_93'</span>,\n",
       "        <span style=\"color: #008000; text-decoration-color: #008000\">'juD99_sPWGU_49'</span>,\n",
       "        <span style=\"color: #008000; text-decoration-color: #008000\">'O640yAgq5f8_79'</span>,\n",
       "        <span style=\"color: #008000; text-decoration-color: #008000\">'EQ3GjpGq5Y8_86'</span>,\n",
       "        <span style=\"color: #008000; text-decoration-color: #008000\">'qPKd99Pa2iU_158'</span>,\n",
       "        <span style=\"color: #008000; text-decoration-color: #008000\">'iw97uvIge7c_74'</span>,\n",
       "        <span style=\"color: #008000; text-decoration-color: #008000\">'zEYE-vcVKy8_16'</span>,\n",
       "        <span style=\"color: #008000; text-decoration-color: #008000\">'CyDLbrZK75U_85'</span>,\n",
       "        <span style=\"color: #008000; text-decoration-color: #008000\">'dzOvi0Aa2EA_108'</span>,\n",
       "        <span style=\"color: #008000; text-decoration-color: #008000\">'Wcs2PFz5q6g_46'</span>\n",
       "    <span style=\"font-weight: bold\">]</span>,\n",
       "    <span style=\"color: #808000; text-decoration-color: #808000\">evaluation_time</span>=<span style=\"color: #008000; text-decoration-color: #008000\">'0.29 minutes'</span>\n",
       "<span style=\"font-weight: bold\">)</span>\n",
       "</pre>\n"
      ],
      "text/plain": [
       "\u001b[1;35mRetrievalEvaluation\u001b[0m\u001b[1m(\u001b[0m\n",
       "    \u001b[33mretrieve_limit\u001b[0m=\u001b[1;36m300\u001b[0m,\n",
       "    \u001b[33mtop_k\u001b[0m=\u001b[1;36m5\u001b[0m,\n",
       "    \u001b[33mretriever\u001b[0m=\u001b[32m'sentence-transformers/all-MiniLM-L6-v2'\u001b[0m,\n",
       "    \u001b[33mreranker\u001b[0m=\u001b[32m'None'\u001b[0m,\n",
       "    \u001b[33mchunk_size\u001b[0m=\u001b[1;36m256\u001b[0m,\n",
       "    \u001b[33mchunk_overlap\u001b[0m=\u001b[1;36m0\u001b[0m,\n",
       "    \u001b[33mtotal_misses\u001b[0m=\u001b[1;36m18\u001b[0m,\n",
       "    \u001b[33mtotal_questions\u001b[0m=\u001b[1;36m100\u001b[0m,\n",
       "    \u001b[33malpha\u001b[0m=\u001b[1;36m0\u001b[0m\u001b[1;36m.4\u001b[0m,\n",
       "    \u001b[33msearch_type\u001b[0m=\u001b[32m'all'\u001b[0m,\n",
       "    \u001b[33mkw_raw_hits\u001b[0m=\u001b[1;36m65\u001b[0m,\n",
       "    \u001b[33mkw_mrr\u001b[0m=\u001b[1;36m0\u001b[0m\u001b[1;36m.54\u001b[0m,\n",
       "    \u001b[33mvector_raw_hits\u001b[0m=\u001b[1;36m56\u001b[0m,\n",
       "    \u001b[33mvector_mrr\u001b[0m=\u001b[1;36m0\u001b[0m\u001b[1;36m.42\u001b[0m,\n",
       "    \u001b[33mhybrid_raw_hits\u001b[0m=\u001b[1;36m73\u001b[0m,\n",
       "    \u001b[33mhybrid_mrr\u001b[0m=\u001b[1;36m0\u001b[0m\u001b[1;36m.59\u001b[0m,\n",
       "    \u001b[33mkw_hit_rate\u001b[0m=\u001b[1;36m0\u001b[0m\u001b[1;36m.65\u001b[0m,\n",
       "    \u001b[33mvector_hit_rate\u001b[0m=\u001b[1;36m0\u001b[0m\u001b[1;36m.56\u001b[0m,\n",
       "    \u001b[33mhybrid_hit_rate\u001b[0m=\u001b[1;36m0\u001b[0m\u001b[1;36m.73\u001b[0m,\n",
       "    \u001b[33mmiss_info\u001b[0m=\u001b[1m[\u001b[0m\n",
       "        \u001b[32m'VAEzZeaV5zM_105'\u001b[0m,\n",
       "        \u001b[32m'Xu1FMCxoEFc_65'\u001b[0m,\n",
       "        \u001b[32m'x4m_PdFbu-s_28'\u001b[0m,\n",
       "        \u001b[32m'tLS6t3FVOTI_7'\u001b[0m,\n",
       "        \u001b[32m'FeRgqJVALMQ_3'\u001b[0m,\n",
       "        \u001b[32m'K9lORz2_XSU_68'\u001b[0m,\n",
       "        \u001b[32m'K9lORz2_XSU_1'\u001b[0m,\n",
       "        \u001b[32m'x3MgDtZovks_8'\u001b[0m,\n",
       "        \u001b[32m'AtChcxeaukQ_93'\u001b[0m,\n",
       "        \u001b[32m'juD99_sPWGU_49'\u001b[0m,\n",
       "        \u001b[32m'O640yAgq5f8_79'\u001b[0m,\n",
       "        \u001b[32m'EQ3GjpGq5Y8_86'\u001b[0m,\n",
       "        \u001b[32m'qPKd99Pa2iU_158'\u001b[0m,\n",
       "        \u001b[32m'iw97uvIge7c_74'\u001b[0m,\n",
       "        \u001b[32m'zEYE-vcVKy8_16'\u001b[0m,\n",
       "        \u001b[32m'CyDLbrZK75U_85'\u001b[0m,\n",
       "        \u001b[32m'dzOvi0Aa2EA_108'\u001b[0m,\n",
       "        \u001b[32m'Wcs2PFz5q6g_46'\u001b[0m\n",
       "    \u001b[1m]\u001b[0m,\n",
       "    \u001b[33mevaluation_time\u001b[0m=\u001b[32m'0.29 minutes'\u001b[0m\n",
       "\u001b[1m)\u001b[0m\n"
      ]
     },
     "metadata": {},
     "output_type": "display_data"
    }
   ],
   "source": [
    "print(renew)"
   ]
  },
  {
   "cell_type": "code",
   "execution_count": 238,
   "id": "a8d08ee7-569b-428a-83ef-6a40baabdfbd",
   "metadata": {},
   "outputs": [
    {
     "data": {
      "text/html": [
       "<pre style=\"white-space:pre;overflow-x:auto;line-height:normal;font-family:Menlo,'DejaVu Sans Mono',consolas,'Courier New',monospace\"><span style=\"color: #800080; text-decoration-color: #800080; font-weight: bold\">RetrievalEvaluation</span><span style=\"font-weight: bold\">(</span>\n",
       "    <span style=\"color: #808000; text-decoration-color: #808000\">retrieve_limit</span>=<span style=\"color: #008080; text-decoration-color: #008080; font-weight: bold\">300</span>,\n",
       "    <span style=\"color: #808000; text-decoration-color: #808000\">top_k</span>=<span style=\"color: #008080; text-decoration-color: #008080; font-weight: bold\">5</span>,\n",
       "    <span style=\"color: #808000; text-decoration-color: #808000\">retriever</span>=<span style=\"color: #008000; text-decoration-color: #008000\">'sentence-transformers/all-MiniLM-L6-v2'</span>,\n",
       "    <span style=\"color: #808000; text-decoration-color: #808000\">reranker</span>=<span style=\"color: #008000; text-decoration-color: #008000\">'cross-encoder/ms-marco-MiniLM-L-6-v2'</span>,\n",
       "    <span style=\"color: #808000; text-decoration-color: #808000\">chunk_size</span>=<span style=\"color: #008080; text-decoration-color: #008080; font-weight: bold\">256</span>,\n",
       "    <span style=\"color: #808000; text-decoration-color: #808000\">chunk_overlap</span>=<span style=\"color: #008080; text-decoration-color: #008080; font-weight: bold\">0</span>,\n",
       "    <span style=\"color: #808000; text-decoration-color: #808000\">total_misses</span>=<span style=\"color: #008080; text-decoration-color: #008080; font-weight: bold\">14</span>,\n",
       "    <span style=\"color: #808000; text-decoration-color: #808000\">total_questions</span>=<span style=\"color: #008080; text-decoration-color: #008080; font-weight: bold\">100</span>,\n",
       "    <span style=\"color: #808000; text-decoration-color: #808000\">alpha</span>=<span style=\"color: #008080; text-decoration-color: #008080; font-weight: bold\">0.4</span>,\n",
       "    <span style=\"color: #808000; text-decoration-color: #808000\">search_type</span>=<span style=\"color: #008000; text-decoration-color: #008000\">'all'</span>,\n",
       "    <span style=\"color: #808000; text-decoration-color: #808000\">kw_raw_hits</span>=<span style=\"color: #008080; text-decoration-color: #008080; font-weight: bold\">79</span>,\n",
       "    <span style=\"color: #808000; text-decoration-color: #808000\">kw_mrr</span>=<span style=\"color: #008080; text-decoration-color: #008080; font-weight: bold\">0.62</span>,\n",
       "    <span style=\"color: #808000; text-decoration-color: #808000\">vector_raw_hits</span>=<span style=\"color: #008080; text-decoration-color: #008080; font-weight: bold\">83</span>,\n",
       "    <span style=\"color: #808000; text-decoration-color: #808000\">vector_mrr</span>=<span style=\"color: #008080; text-decoration-color: #008080; font-weight: bold\">0.65</span>,\n",
       "    <span style=\"color: #808000; text-decoration-color: #808000\">hybrid_raw_hits</span>=<span style=\"color: #008080; text-decoration-color: #008080; font-weight: bold\">81</span>,\n",
       "    <span style=\"color: #808000; text-decoration-color: #808000\">hybrid_mrr</span>=<span style=\"color: #008080; text-decoration-color: #008080; font-weight: bold\">0.64</span>,\n",
       "    <span style=\"color: #808000; text-decoration-color: #808000\">kw_hit_rate</span>=<span style=\"color: #008080; text-decoration-color: #008080; font-weight: bold\">0.79</span>,\n",
       "    <span style=\"color: #808000; text-decoration-color: #808000\">vector_hit_rate</span>=<span style=\"color: #008080; text-decoration-color: #008080; font-weight: bold\">0.83</span>,\n",
       "    <span style=\"color: #808000; text-decoration-color: #808000\">hybrid_hit_rate</span>=<span style=\"color: #008080; text-decoration-color: #008080; font-weight: bold\">0.81</span>,\n",
       "    <span style=\"color: #808000; text-decoration-color: #808000\">miss_info</span>=<span style=\"font-weight: bold\">[</span>\n",
       "        <span style=\"color: #008000; text-decoration-color: #008000\">'K4Ze-Sp6aUE_160'</span>,\n",
       "        <span style=\"color: #008000; text-decoration-color: #008000\">'x3MgDtZovks_8'</span>,\n",
       "        <span style=\"color: #008000; text-decoration-color: #008000\">'juD99_sPWGU_49'</span>,\n",
       "        <span style=\"color: #008000; text-decoration-color: #008000\">'ObtW353d5i0_17'</span>,\n",
       "        <span style=\"color: #008000; text-decoration-color: #008000\">'O640yAgq5f8_79'</span>,\n",
       "        <span style=\"color: #008000; text-decoration-color: #008000\">'EQ3GjpGq5Y8_86'</span>,\n",
       "        <span style=\"color: #008000; text-decoration-color: #008000\">'qPKd99Pa2iU_158'</span>,\n",
       "        <span style=\"color: #008000; text-decoration-color: #008000\">'zEYE-vcVKy8_16'</span>,\n",
       "        <span style=\"color: #008000; text-decoration-color: #008000\">'CyDLbrZK75U_85'</span>,\n",
       "        <span style=\"color: #008000; text-decoration-color: #008000\">'tLRCS48Ens4_17'</span>,\n",
       "        <span style=\"color: #008000; text-decoration-color: #008000\">'dzOvi0Aa2EA_108'</span>,\n",
       "        <span style=\"color: #008000; text-decoration-color: #008000\">'ncSoor2Iw8k_16'</span>,\n",
       "        <span style=\"color: #008000; text-decoration-color: #008000\">'CGjdgy0cwGk_44'</span>,\n",
       "        <span style=\"color: #008000; text-decoration-color: #008000\">'Wcs2PFz5q6g_46'</span>\n",
       "    <span style=\"font-weight: bold\">]</span>,\n",
       "    <span style=\"color: #808000; text-decoration-color: #808000\">evaluation_time</span>=<span style=\"color: #008000; text-decoration-color: #008000\">'5.05 minutes'</span>\n",
       "<span style=\"font-weight: bold\">)</span>\n",
       "</pre>\n"
      ],
      "text/plain": [
       "\u001b[1;35mRetrievalEvaluation\u001b[0m\u001b[1m(\u001b[0m\n",
       "    \u001b[33mretrieve_limit\u001b[0m=\u001b[1;36m300\u001b[0m,\n",
       "    \u001b[33mtop_k\u001b[0m=\u001b[1;36m5\u001b[0m,\n",
       "    \u001b[33mretriever\u001b[0m=\u001b[32m'sentence-transformers/all-MiniLM-L6-v2'\u001b[0m,\n",
       "    \u001b[33mreranker\u001b[0m=\u001b[32m'cross-encoder/ms-marco-MiniLM-L-6-v2'\u001b[0m,\n",
       "    \u001b[33mchunk_size\u001b[0m=\u001b[1;36m256\u001b[0m,\n",
       "    \u001b[33mchunk_overlap\u001b[0m=\u001b[1;36m0\u001b[0m,\n",
       "    \u001b[33mtotal_misses\u001b[0m=\u001b[1;36m14\u001b[0m,\n",
       "    \u001b[33mtotal_questions\u001b[0m=\u001b[1;36m100\u001b[0m,\n",
       "    \u001b[33malpha\u001b[0m=\u001b[1;36m0\u001b[0m\u001b[1;36m.4\u001b[0m,\n",
       "    \u001b[33msearch_type\u001b[0m=\u001b[32m'all'\u001b[0m,\n",
       "    \u001b[33mkw_raw_hits\u001b[0m=\u001b[1;36m79\u001b[0m,\n",
       "    \u001b[33mkw_mrr\u001b[0m=\u001b[1;36m0\u001b[0m\u001b[1;36m.62\u001b[0m,\n",
       "    \u001b[33mvector_raw_hits\u001b[0m=\u001b[1;36m83\u001b[0m,\n",
       "    \u001b[33mvector_mrr\u001b[0m=\u001b[1;36m0\u001b[0m\u001b[1;36m.65\u001b[0m,\n",
       "    \u001b[33mhybrid_raw_hits\u001b[0m=\u001b[1;36m81\u001b[0m,\n",
       "    \u001b[33mhybrid_mrr\u001b[0m=\u001b[1;36m0\u001b[0m\u001b[1;36m.64\u001b[0m,\n",
       "    \u001b[33mkw_hit_rate\u001b[0m=\u001b[1;36m0\u001b[0m\u001b[1;36m.79\u001b[0m,\n",
       "    \u001b[33mvector_hit_rate\u001b[0m=\u001b[1;36m0\u001b[0m\u001b[1;36m.83\u001b[0m,\n",
       "    \u001b[33mhybrid_hit_rate\u001b[0m=\u001b[1;36m0\u001b[0m\u001b[1;36m.81\u001b[0m,\n",
       "    \u001b[33mmiss_info\u001b[0m=\u001b[1m[\u001b[0m\n",
       "        \u001b[32m'K4Ze-Sp6aUE_160'\u001b[0m,\n",
       "        \u001b[32m'x3MgDtZovks_8'\u001b[0m,\n",
       "        \u001b[32m'juD99_sPWGU_49'\u001b[0m,\n",
       "        \u001b[32m'ObtW353d5i0_17'\u001b[0m,\n",
       "        \u001b[32m'O640yAgq5f8_79'\u001b[0m,\n",
       "        \u001b[32m'EQ3GjpGq5Y8_86'\u001b[0m,\n",
       "        \u001b[32m'qPKd99Pa2iU_158'\u001b[0m,\n",
       "        \u001b[32m'zEYE-vcVKy8_16'\u001b[0m,\n",
       "        \u001b[32m'CyDLbrZK75U_85'\u001b[0m,\n",
       "        \u001b[32m'tLRCS48Ens4_17'\u001b[0m,\n",
       "        \u001b[32m'dzOvi0Aa2EA_108'\u001b[0m,\n",
       "        \u001b[32m'ncSoor2Iw8k_16'\u001b[0m,\n",
       "        \u001b[32m'CGjdgy0cwGk_44'\u001b[0m,\n",
       "        \u001b[32m'Wcs2PFz5q6g_46'\u001b[0m\n",
       "    \u001b[1m]\u001b[0m,\n",
       "    \u001b[33mevaluation_time\u001b[0m=\u001b[32m'5.05 minutes'\u001b[0m\n",
       "\u001b[1m)\u001b[0m\n"
      ]
     },
     "metadata": {},
     "output_type": "display_data"
    }
   ],
   "source": [
    "print(renew)"
   ]
  },
  {
   "cell_type": "code",
   "execution_count": 61,
   "id": "7b6a3162-88e4-404c-8c78-657196101ecb",
   "metadata": {},
   "outputs": [
    {
     "data": {
      "text/html": [
       "<pre style=\"white-space:pre;overflow-x:auto;line-height:normal;font-family:Menlo,'DejaVu Sans Mono',consolas,'Courier New',monospace\"><span style=\"color: #800080; text-decoration-color: #800080; font-weight: bold\">RetrievalEvaluation</span><span style=\"font-weight: bold\">(</span>\n",
       "    <span style=\"color: #808000; text-decoration-color: #808000\">retrieve_limit</span>=<span style=\"color: #008080; text-decoration-color: #008080; font-weight: bold\">300</span>,\n",
       "    <span style=\"color: #808000; text-decoration-color: #808000\">top_k</span>=<span style=\"color: #008080; text-decoration-color: #008080; font-weight: bold\">5</span>,\n",
       "    <span style=\"color: #808000; text-decoration-color: #808000\">retriever</span>=<span style=\"color: #008000; text-decoration-color: #008000\">'sentence-transformers/all-MiniLM-L6-v2'</span>,\n",
       "    <span style=\"color: #808000; text-decoration-color: #808000\">reranker</span>=<span style=\"color: #008000; text-decoration-color: #008000\">'cross-encoder/ms-marco-MiniLM-L-6-v2'</span>,\n",
       "    <span style=\"color: #808000; text-decoration-color: #808000\">chunk_size</span>=<span style=\"color: #008080; text-decoration-color: #008080; font-weight: bold\">256</span>,\n",
       "    <span style=\"color: #808000; text-decoration-color: #808000\">chunk_overlap</span>=<span style=\"color: #008080; text-decoration-color: #008080; font-weight: bold\">0</span>,\n",
       "    <span style=\"color: #808000; text-decoration-color: #808000\">total_misses</span>=<span style=\"color: #008080; text-decoration-color: #008080; font-weight: bold\">19</span>,\n",
       "    <span style=\"color: #808000; text-decoration-color: #808000\">total_questions</span>=<span style=\"color: #008080; text-decoration-color: #008080; font-weight: bold\">100</span>,\n",
       "    <span style=\"color: #808000; text-decoration-color: #808000\">alpha</span>=<span style=\"color: #008080; text-decoration-color: #008080; font-weight: bold\">0.4</span>,\n",
       "    <span style=\"color: #808000; text-decoration-color: #808000\">search_type</span>=<span style=\"color: #008000; text-decoration-color: #008000\">'all'</span>,\n",
       "    <span style=\"color: #808000; text-decoration-color: #808000\">kw_raw_hits</span>=<span style=\"color: #008080; text-decoration-color: #008080; font-weight: bold\">74</span>,\n",
       "    <span style=\"color: #808000; text-decoration-color: #808000\">kw_mrr</span>=<span style=\"color: #008080; text-decoration-color: #008080; font-weight: bold\">0.59</span>,\n",
       "    <span style=\"color: #808000; text-decoration-color: #808000\">vector_raw_hits</span>=<span style=\"color: #008080; text-decoration-color: #008080; font-weight: bold\">78</span>,\n",
       "    <span style=\"color: #808000; text-decoration-color: #808000\">vector_mrr</span>=<span style=\"color: #008080; text-decoration-color: #008080; font-weight: bold\">0.62</span>,\n",
       "    <span style=\"color: #808000; text-decoration-color: #808000\">hybrid_raw_hits</span>=<span style=\"color: #008080; text-decoration-color: #008080; font-weight: bold\">76</span>,\n",
       "    <span style=\"color: #808000; text-decoration-color: #808000\">hybrid_mrr</span>=<span style=\"color: #008080; text-decoration-color: #008080; font-weight: bold\">0.6</span>,\n",
       "    <span style=\"color: #808000; text-decoration-color: #808000\">kw_hit_rate</span>=<span style=\"color: #008080; text-decoration-color: #008080; font-weight: bold\">0.74</span>,\n",
       "    <span style=\"color: #808000; text-decoration-color: #808000\">vector_hit_rate</span>=<span style=\"color: #008080; text-decoration-color: #008080; font-weight: bold\">0.78</span>,\n",
       "    <span style=\"color: #808000; text-decoration-color: #808000\">hybrid_hit_rate</span>=<span style=\"color: #008080; text-decoration-color: #008080; font-weight: bold\">0.76</span>,\n",
       "    <span style=\"color: #808000; text-decoration-color: #808000\">miss_info</span>=<span style=\"font-weight: bold\">[</span>\n",
       "        <span style=\"color: #008000; text-decoration-color: #008000\">'ntfcfJ28eiU_64'</span>,\n",
       "        <span style=\"color: #008000; text-decoration-color: #008000\">'VQLU7gpk_X8_96'</span>,\n",
       "        <span style=\"color: #008000; text-decoration-color: #008000\">'h2aWYjSA1Jc_54'</span>,\n",
       "        <span style=\"color: #008000; text-decoration-color: #008000\">'7R3-3HR6-u4_4'</span>,\n",
       "        <span style=\"color: #008000; text-decoration-color: #008000\">'K4Ze-Sp6aUE_160'</span>,\n",
       "        <span style=\"color: #008000; text-decoration-color: #008000\">'x3MgDtZovks_8'</span>,\n",
       "        <span style=\"color: #008000; text-decoration-color: #008000\">'juD99_sPWGU_26'</span>,\n",
       "        <span style=\"color: #008000; text-decoration-color: #008000\">'juD99_sPWGU_49'</span>,\n",
       "        <span style=\"color: #008000; text-decoration-color: #008000\">'ObtW353d5i0_17'</span>,\n",
       "        <span style=\"color: #008000; text-decoration-color: #008000\">'O640yAgq5f8_79'</span>,\n",
       "        <span style=\"color: #008000; text-decoration-color: #008000\">'EQ3GjpGq5Y8_86'</span>,\n",
       "        <span style=\"color: #008000; text-decoration-color: #008000\">'qPKd99Pa2iU_158'</span>,\n",
       "        <span style=\"color: #008000; text-decoration-color: #008000\">'zEYE-vcVKy8_16'</span>,\n",
       "        <span style=\"color: #008000; text-decoration-color: #008000\">'CyDLbrZK75U_85'</span>,\n",
       "        <span style=\"color: #008000; text-decoration-color: #008000\">'tLRCS48Ens4_17'</span>,\n",
       "        <span style=\"color: #008000; text-decoration-color: #008000\">'dzOvi0Aa2EA_108'</span>,\n",
       "        <span style=\"color: #008000; text-decoration-color: #008000\">'ncSoor2Iw8k_16'</span>,\n",
       "        <span style=\"color: #008000; text-decoration-color: #008000\">'CGjdgy0cwGk_44'</span>,\n",
       "        <span style=\"color: #008000; text-decoration-color: #008000\">'Wcs2PFz5q6g_46'</span>\n",
       "    <span style=\"font-weight: bold\">]</span>,\n",
       "    <span style=\"color: #808000; text-decoration-color: #808000\">evaluation_time</span>=<span style=\"color: #008000; text-decoration-color: #008000\">'5.33 minutes'</span>\n",
       "<span style=\"font-weight: bold\">)</span>\n",
       "</pre>\n"
      ],
      "text/plain": [
       "\u001b[1;35mRetrievalEvaluation\u001b[0m\u001b[1m(\u001b[0m\n",
       "    \u001b[33mretrieve_limit\u001b[0m=\u001b[1;36m300\u001b[0m,\n",
       "    \u001b[33mtop_k\u001b[0m=\u001b[1;36m5\u001b[0m,\n",
       "    \u001b[33mretriever\u001b[0m=\u001b[32m'sentence-transformers/all-MiniLM-L6-v2'\u001b[0m,\n",
       "    \u001b[33mreranker\u001b[0m=\u001b[32m'cross-encoder/ms-marco-MiniLM-L-6-v2'\u001b[0m,\n",
       "    \u001b[33mchunk_size\u001b[0m=\u001b[1;36m256\u001b[0m,\n",
       "    \u001b[33mchunk_overlap\u001b[0m=\u001b[1;36m0\u001b[0m,\n",
       "    \u001b[33mtotal_misses\u001b[0m=\u001b[1;36m19\u001b[0m,\n",
       "    \u001b[33mtotal_questions\u001b[0m=\u001b[1;36m100\u001b[0m,\n",
       "    \u001b[33malpha\u001b[0m=\u001b[1;36m0\u001b[0m\u001b[1;36m.4\u001b[0m,\n",
       "    \u001b[33msearch_type\u001b[0m=\u001b[32m'all'\u001b[0m,\n",
       "    \u001b[33mkw_raw_hits\u001b[0m=\u001b[1;36m74\u001b[0m,\n",
       "    \u001b[33mkw_mrr\u001b[0m=\u001b[1;36m0\u001b[0m\u001b[1;36m.59\u001b[0m,\n",
       "    \u001b[33mvector_raw_hits\u001b[0m=\u001b[1;36m78\u001b[0m,\n",
       "    \u001b[33mvector_mrr\u001b[0m=\u001b[1;36m0\u001b[0m\u001b[1;36m.62\u001b[0m,\n",
       "    \u001b[33mhybrid_raw_hits\u001b[0m=\u001b[1;36m76\u001b[0m,\n",
       "    \u001b[33mhybrid_mrr\u001b[0m=\u001b[1;36m0\u001b[0m\u001b[1;36m.6\u001b[0m,\n",
       "    \u001b[33mkw_hit_rate\u001b[0m=\u001b[1;36m0\u001b[0m\u001b[1;36m.74\u001b[0m,\n",
       "    \u001b[33mvector_hit_rate\u001b[0m=\u001b[1;36m0\u001b[0m\u001b[1;36m.78\u001b[0m,\n",
       "    \u001b[33mhybrid_hit_rate\u001b[0m=\u001b[1;36m0\u001b[0m\u001b[1;36m.76\u001b[0m,\n",
       "    \u001b[33mmiss_info\u001b[0m=\u001b[1m[\u001b[0m\n",
       "        \u001b[32m'ntfcfJ28eiU_64'\u001b[0m,\n",
       "        \u001b[32m'VQLU7gpk_X8_96'\u001b[0m,\n",
       "        \u001b[32m'h2aWYjSA1Jc_54'\u001b[0m,\n",
       "        \u001b[32m'7R3-3HR6-u4_4'\u001b[0m,\n",
       "        \u001b[32m'K4Ze-Sp6aUE_160'\u001b[0m,\n",
       "        \u001b[32m'x3MgDtZovks_8'\u001b[0m,\n",
       "        \u001b[32m'juD99_sPWGU_26'\u001b[0m,\n",
       "        \u001b[32m'juD99_sPWGU_49'\u001b[0m,\n",
       "        \u001b[32m'ObtW353d5i0_17'\u001b[0m,\n",
       "        \u001b[32m'O640yAgq5f8_79'\u001b[0m,\n",
       "        \u001b[32m'EQ3GjpGq5Y8_86'\u001b[0m,\n",
       "        \u001b[32m'qPKd99Pa2iU_158'\u001b[0m,\n",
       "        \u001b[32m'zEYE-vcVKy8_16'\u001b[0m,\n",
       "        \u001b[32m'CyDLbrZK75U_85'\u001b[0m,\n",
       "        \u001b[32m'tLRCS48Ens4_17'\u001b[0m,\n",
       "        \u001b[32m'dzOvi0Aa2EA_108'\u001b[0m,\n",
       "        \u001b[32m'ncSoor2Iw8k_16'\u001b[0m,\n",
       "        \u001b[32m'CGjdgy0cwGk_44'\u001b[0m,\n",
       "        \u001b[32m'Wcs2PFz5q6g_46'\u001b[0m\n",
       "    \u001b[1m]\u001b[0m,\n",
       "    \u001b[33mevaluation_time\u001b[0m=\u001b[32m'5.33 minutes'\u001b[0m\n",
       "\u001b[1m)\u001b[0m\n"
      ]
     },
     "metadata": {},
     "output_type": "display_data"
    }
   ],
   "source": [
    "print(re)"
   ]
  },
  {
   "cell_type": "code",
   "execution_count": 243,
   "id": "03da38ec-ac8e-43be-a797-efae4878bf88",
   "metadata": {},
   "outputs": [],
   "source": [
    "with open('../data/golden_datasets/golden_256.json', 'w') as f:\n",
    "    import json\n",
    "    f.write(json.dumps(dumped_golden))"
   ]
  },
  {
   "cell_type": "code",
   "execution_count": 101,
   "id": "908fe662-9261-4c24-8724-16b6164e0c64",
   "metadata": {},
   "outputs": [],
   "source": [
    "def check_misses(missing_doc_ids: list[str], original_dataset: dict[dict]):\n",
    "    reverse_docs = {v:k for k,v in original_dataset['relevant_docs'].items()}\n",
    "    bundles = []\n",
    "    for doc_id in missing_doc_ids:\n",
    "        item_key = reverse_docs[doc_id]\n",
    "        context = original_dataset['corpus'][doc_id]\n",
    "        query = original_dataset['queries'][item_key]\n",
    "        answer = original_dataset['answers'][item_key]\n",
    "        bundles.append({'doc_id': doc_id, 'context': context, 'query': query, 'answer': answer})\n",
    "    return bundles"
   ]
  },
  {
   "cell_type": "code",
   "execution_count": 103,
   "id": "d79efd1c-9f60-445c-9d5b-590510a0a4b7",
   "metadata": {},
   "outputs": [],
   "source": [
    "bundles = check_misses(re.miss_info, dumped_golden)"
   ]
  },
  {
   "cell_type": "code",
   "execution_count": 215,
   "id": "3c22e4f6-182b-4bf1-a6c5-0da62ce97191",
   "metadata": {},
   "outputs": [],
   "source": [
    "i = 6"
   ]
  },
  {
   "cell_type": "code",
   "execution_count": 216,
   "id": "bbf54b7e-d48c-4126-8b44-313f4fd63102",
   "metadata": {},
   "outputs": [
    {
     "data": {
      "text/plain": [
       "'juD99_sPWGU_26'"
      ]
     },
     "execution_count": 216,
     "metadata": {},
     "output_type": "execute_result"
    }
   ],
   "source": [
    "original_doc_id = re.miss_info[i]\n",
    "original_doc_id"
   ]
  },
  {
   "cell_type": "code",
   "execution_count": 217,
   "id": "102ff848-3c9c-417c-8b2b-4f4b4b4b7cb8",
   "metadata": {},
   "outputs": [
    {
     "data": {
      "text/plain": [
       "{'doc_id': 'juD99_sPWGU_26',\n",
       " 'context': \"You can get a ton of information from that if you understand the difference between exactly what you talked about. Looking for signals of increased risk of cardiovascular events 25 years down the road versus is this the optimal value for high performance in an athlete, which is what our database and all of our software and stuff does is only looking for those things. So I'm going to talk about some of the biomarkers to look for a little bit later, salivary stuff, some blood stuff, but we'll maybe save that part of the conversation for down the road. Tell me about different timescales of recovery. Sure. This is actually where I was trying to answer your question for, and then I got myself way off track. But the reason I brought up the hormetic thing is if you understand that some things in the acute, say 24 to 48 hour period, look terrible, it's actually fine, right? So this is the stimuli that's causing adaptation. So the reason I brought up the medical exchange there is because if you looked at inflammatory markers and then you mentioned some of them, you would see that they are highest acute within seconds to minutes to hours after exercise.\",\n",
       " 'query': 'How do inflammatory markers behave after exercise?',\n",
       " 'answer': 'Inflammatory markers are highest acute within seconds to minutes to hours after exercise.'}"
      ]
     },
     "execution_count": 217,
     "metadata": {},
     "output_type": "execute_result"
    }
   ],
   "source": [
    "bundles[i]"
   ]
  },
  {
   "cell_type": "code",
   "execution_count": 218,
   "id": "c302b6ac-9ba8-4a79-82dd-bc980360fb6e",
   "metadata": {},
   "outputs": [],
   "source": [
    "query = bundles[i]['query']\n",
    "results = retriever.hybrid_search(\n",
    "                        query,\n",
    "                        'Huberman_minilm_256', \n",
    "                        alpha=0.4, \n",
    "                        limit=300)"
   ]
  },
  {
   "cell_type": "code",
   "execution_count": 219,
   "id": "372e92a6-f4fb-4f46-9c99-6281979f0635",
   "metadata": {},
   "outputs": [],
   "source": [
    "reranked = reranker.rerank(results, query, top_k=5)"
   ]
  },
  {
   "cell_type": "code",
   "execution_count": 226,
   "id": "f8b75e80-c248-4f73-b7a1-fe4b527c311a",
   "metadata": {},
   "outputs": [],
   "source": [
    "rerank_marker = 0"
   ]
  },
  {
   "cell_type": "code",
   "execution_count": 227,
   "id": "88fd4186-50f7-4ff0-82e3-36b20f30439e",
   "metadata": {},
   "outputs": [
    {
     "data": {
      "text/plain": [
       "{'guest': 'Andrew Huberman',\n",
       " 'content': \"In the review that I mentioned a few moments ago, they cover some of the data from studies exploring the post-exercise stress response. So this is the post-exercise induced increase in things like cortisol, those natural killer cells, the production of white blood cells, and so on. It's very clear that if you are in a state of chronic stress because you're exercising a lot and or because you're not sleeping enough, or for whatever reason, maybe you have a lot of life stress, it's very clear that ingesting carbohydrates after exercise can help attenuate some of the inflammation that exercise induces. When we talk about carbohydrates, we're talking about rice, oatmeal, pasta, those sorts of things, so-called complex carbohydrates. And fruit post-exercise has been shown to attenuate, to reduce some of the markers of inflammation by about 30 to 40% when contrasted with water only intake, especially if you're training fasted. So for those of you like me that like to wake up in the morning and just drink fluids, you know, for me, it's water, yerba mate, coffee.\",\n",
       " 'summary': 'In the \"How to Prevent & Treat Colds & Flu\" episode of the Huberman Lab podcast, Dr. Andrew Huberman discusses the biological and physiological aspects of colds and flus, and how they impact the body, particularly the immune system. He explains the mechanisms of the immune system in an accessible way, including the innate and adaptive responses, and how these can be bolstered to either prevent or treat colds and flus. Huberman debunks common myths about cold and flu treatments and highlights science-supported behavioral protocols and compounds for prevention and treatment. He emphasizes the importance of understanding the immune system to effectively combat these illnesses and provides insights into how lifestyle factors like sleep, stress, nutrition, and exercise can influence immune function.',\n",
       " 'thumbnail_url': 'https://i.ytimg.com/vi/AtChcxeaukQ/mqdefault.jpg',\n",
       " 'title': 'How to Prevent & Treat Colds & Flu',\n",
       " 'episode_url': 'https://www.youtube.com/watch?v=AtChcxeaukQ',\n",
       " 'video_id': 'AtChcxeaukQ',\n",
       " 'doc_id': 'AtChcxeaukQ_93',\n",
       " 'score': 0.5508989095687866,\n",
       " 'cross_score': 0.9007133}"
      ]
     },
     "execution_count": 227,
     "metadata": {},
     "output_type": "execute_result"
    }
   ],
   "source": [
    "reranked[rerank_marker]"
   ]
  },
  {
   "cell_type": "code",
   "execution_count": 228,
   "id": "33a971a5-abc6-4b55-9a5e-23002e8cad42",
   "metadata": {},
   "outputs": [],
   "source": [
    "user_template = \"\"\"\n",
    "Answer the query using only the provided context as your knowledge source.  Answer the question concisely and directly without providing additional reasoning:\n",
    "\n",
    "CONTEXT\n",
    "```\n",
    "{context}\n",
    "```\n",
    "QUERY:\n",
    "{query}\n",
    "\"\"\""
   ]
  },
  {
   "cell_type": "code",
   "execution_count": 229,
   "id": "efa389a7-6646-49c8-bcac-75886228359d",
   "metadata": {},
   "outputs": [
    {
     "data": {
      "text/html": [
       "<pre style=\"white-space:pre;overflow-x:auto;line-height:normal;font-family:Menlo,'DejaVu Sans Mono',consolas,'Courier New',monospace\">AtChcxeaukQ_93\n",
       "</pre>\n"
      ],
      "text/plain": [
       "AtChcxeaukQ_93\n"
      ]
     },
     "metadata": {},
     "output_type": "display_data"
    }
   ],
   "source": [
    "def key_lookup(doc_id: str, golden_dataset: dict[dict]):\n",
    "    reverse_docs = {v:k for k,v in golden_dataset['relevant_docs'].items()}\n",
    "    return reverse_docs[doc_id]\n",
    "\n",
    "key = key_lookup(original_doc_id, dumped_golden)\n",
    "new_content = reranked[rerank_marker]['content']\n",
    "new_doc_id = reranked[rerank_marker]['doc_id']\n",
    "print(new_doc_id)\n",
    "query = bundles[i]['query']"
   ]
  },
  {
   "cell_type": "code",
   "execution_count": 224,
   "id": "38a625c2-cf3c-4050-8e55-8b2a544a5bbc",
   "metadata": {},
   "outputs": [],
   "source": [
    "answer = llm.chat_completion(system_message=\"you are a helpful assistant\",\n",
    "                    user_message=user_template.format(context=new_content, query=query),\n",
    "                    temperature=1)"
   ]
  },
  {
   "cell_type": "code",
   "execution_count": 225,
   "id": "c5296675-4d1c-4043-a782-590da75955a3",
   "metadata": {},
   "outputs": [
    {
     "data": {
      "text/plain": [
       "'Inflammatory markers typically increase after exercise, but ingesting carbohydrates or fruit post-exercise can help reduce these markers by about 30 to 40% compared to only water intake, especially if training is done in a fasted state.'"
      ]
     },
     "execution_count": 225,
     "metadata": {},
     "output_type": "execute_result"
    }
   ],
   "source": [
    "answer"
   ]
  },
  {
   "cell_type": "markdown",
   "id": "1b3e4001-fc35-4640-840b-e7966d67071e",
   "metadata": {},
   "source": [
    "### Change Context, Relevant Docs, and Answer"
   ]
  },
  {
   "cell_type": "code",
   "execution_count": 230,
   "id": "6441c47c-7674-4453-a872-b58086d13b1c",
   "metadata": {},
   "outputs": [
    {
     "data": {
      "text/plain": [
       "'Inflammatory markers typically increase after exercise, but ingesting carbohydrates or fruit post-exercise can help reduce these markers by about 30 to 40% compared to only water intake, especially if training is done in a fasted state.'"
      ]
     },
     "execution_count": 230,
     "metadata": {},
     "output_type": "execute_result"
    }
   ],
   "source": [
    "dumped_golden['answers'][key] = answer\n",
    "dumped_golden['answers'][key]"
   ]
  },
  {
   "cell_type": "code",
   "execution_count": 231,
   "id": "bd2074c2-a981-4f0f-8511-13a1791236a5",
   "metadata": {},
   "outputs": [
    {
     "data": {
      "text/plain": [
       "'AtChcxeaukQ_93'"
      ]
     },
     "execution_count": 231,
     "metadata": {},
     "output_type": "execute_result"
    }
   ],
   "source": [
    "dumped_golden['relevant_docs'][key] = new_doc_id\n",
    "dumped_golden['relevant_docs'][key]"
   ]
  },
  {
   "cell_type": "code",
   "execution_count": 232,
   "id": "cb48e913-f5f9-4a37-8674-765a14f3d1a6",
   "metadata": {},
   "outputs": [],
   "source": [
    "del dumped_golden['corpus'][original_doc_id]"
   ]
  },
  {
   "cell_type": "code",
   "execution_count": 233,
   "id": "e1f55f0d-f1c9-4e48-aaf0-3d67c30784e0",
   "metadata": {},
   "outputs": [],
   "source": [
    "dumped_golden['corpus'][new_doc_id] = new_content"
   ]
  },
  {
   "cell_type": "code",
   "execution_count": 234,
   "id": "fa42d021-e581-4b16-afd5-956b255927ce",
   "metadata": {},
   "outputs": [
    {
     "data": {
      "text/plain": [
       "\"In the review that I mentioned a few moments ago, they cover some of the data from studies exploring the post-exercise stress response. So this is the post-exercise induced increase in things like cortisol, those natural killer cells, the production of white blood cells, and so on. It's very clear that if you are in a state of chronic stress because you're exercising a lot and or because you're not sleeping enough, or for whatever reason, maybe you have a lot of life stress, it's very clear that ingesting carbohydrates after exercise can help attenuate some of the inflammation that exercise induces. When we talk about carbohydrates, we're talking about rice, oatmeal, pasta, those sorts of things, so-called complex carbohydrates. And fruit post-exercise has been shown to attenuate, to reduce some of the markers of inflammation by about 30 to 40% when contrasted with water only intake, especially if you're training fasted. So for those of you like me that like to wake up in the morning and just drink fluids, you know, for me, it's water, yerba mate, coffee.\""
      ]
     },
     "execution_count": 234,
     "metadata": {},
     "output_type": "execute_result"
    }
   ],
   "source": [
    "dumped_golden['corpus'][new_doc_id]"
   ]
  },
  {
   "cell_type": "code",
   "execution_count": null,
   "id": "86e71ec3-af2b-43b2-b0d7-58d6fc236a11",
   "metadata": {},
   "outputs": [],
   "source": []
  }
 ],
 "metadata": {
  "kernelspec": {
   "display_name": "rag-env",
   "language": "python",
   "name": "rag-env"
  },
  "language_info": {
   "codemirror_mode": {
    "name": "ipython",
    "version": 3
   },
   "file_extension": ".py",
   "mimetype": "text/x-python",
   "name": "python",
   "nbconvert_exporter": "python",
   "pygments_lexer": "ipython3",
   "version": "3.10.15"
  }
 },
 "nbformat": 4,
 "nbformat_minor": 5
}
